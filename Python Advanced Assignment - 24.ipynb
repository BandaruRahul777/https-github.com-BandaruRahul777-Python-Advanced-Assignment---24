{
 "cells": [
  {
   "cell_type": "code",
   "execution_count": null,
   "id": "74f0667c",
   "metadata": {},
   "outputs": [],
   "source": [
    "Question 1"
   ]
  },
  {
   "cell_type": "code",
   "execution_count": null,
   "id": "694448d6",
   "metadata": {},
   "outputs": [],
   "source": [
    "Yes, it is permissible to use several import statements to import the same module. It is used in case when we have to import\n",
    "multiple functions from same module."
   ]
  },
  {
   "cell_type": "code",
   "execution_count": null,
   "id": "37ea83d6",
   "metadata": {},
   "outputs": [],
   "source": [
    "Question 2"
   ]
  },
  {
   "cell_type": "code",
   "execution_count": null,
   "id": "8fc73aed",
   "metadata": {},
   "outputs": [],
   "source": [
    "The following are some of a module's characteristics:\n",
    "\n",
    "__name__ : It returns the name of the module.\n",
    "__doc__ : It denotes the documentation string line written in a module code.\n",
    "__file__ : It holds the name and path of the module file from which it is loaded.\n",
    "__dict__ : It return a dictionary object of module attributes, functions and other definitions and their respective values."
   ]
  },
  {
   "cell_type": "code",
   "execution_count": null,
   "id": "39a94467",
   "metadata": {},
   "outputs": [],
   "source": [
    "Question 3"
   ]
  },
  {
   "cell_type": "code",
   "execution_count": null,
   "id": "6c3b08e7",
   "metadata": {},
   "outputs": [],
   "source": [
    "Circular importing means importing the two modules in each other. If suppose we are wokring in MOD1.py file and it is importing\n",
    "some function say F2() from some other module say MOD2.PY file or we can do vice-versa. What will happen is: This will give an\n",
    "import error.\n",
    "\n",
    "This is because when we import F2() function from module MOD2.py, then this will execute MOD2.py file. And in MOD2.py\n",
    "file there is an another statement of importing MOD1.py module.\n",
    "\n",
    "This will result in endless loop. To avoid this error just do one thingWe can use if __name__ == '__main__'\n",
    "\n",
    "In the function, you can't directly refer to the function in the program. The addition of this sentence avoids the endless loop\n",
    "of the program ."
   ]
  },
  {
   "cell_type": "code",
   "execution_count": null,
   "id": "f674a4e8",
   "metadata": {},
   "outputs": [],
   "source": [
    "Question 4"
   ]
  },
  {
   "cell_type": "code",
   "execution_count": null,
   "id": "de378c80",
   "metadata": {},
   "outputs": [],
   "source": [
    "It provides list of all modules present in a library."
   ]
  },
  {
   "cell_type": "code",
   "execution_count": null,
   "id": "fda2ee4e",
   "metadata": {},
   "outputs": [],
   "source": [
    "Question 5"
   ]
  },
  {
   "cell_type": "code",
   "execution_count": null,
   "id": "27eec799",
   "metadata": {},
   "outputs": [],
   "source": [
    "During the time of execution of the code if we want to refer the module in which we are working on then we uses name attribute.\n",
    "In that case it will return the module in which we are working on. Suppose if that moudle is being imported from some other\n",
    "module then name will have the name of that moudle from where the current module has been imported. The current module in which\n",
    "we are working is refer to the string __main __."
   ]
  }
 ],
 "metadata": {
  "kernelspec": {
   "display_name": "Python 3 (ipykernel)",
   "language": "python",
   "name": "python3"
  },
  "language_info": {
   "codemirror_mode": {
    "name": "ipython",
    "version": 3
   },
   "file_extension": ".py",
   "mimetype": "text/x-python",
   "name": "python",
   "nbconvert_exporter": "python",
   "pygments_lexer": "ipython3",
   "version": "3.9.7"
  }
 },
 "nbformat": 4,
 "nbformat_minor": 5
}
